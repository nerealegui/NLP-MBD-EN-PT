{
  "cells": [
    {
      "cell_type": "markdown",
      "metadata": {
        "colab_type": "text",
        "id": "view-in-github"
      },
      "source": [
        "<a href=\"https://colab.research.google.com/github/nerealegui/NLP-MBD-EN-PT/blob/main/tagging_parsing_practice/bag_of_words.ipynb\" target=\"_parent\"><img src=\"https://colab.research.google.com/assets/colab-badge.svg\" alt=\"Open In Colab\"/></a>"
      ]
    },
    {
      "cell_type": "markdown",
      "metadata": {
        "id": "LCvwbQnTvBRh"
      },
      "source": [
        "# Google Colab Configuration\n",
        "\n",
        "**Execute this steps to configure the Google Colab environment in order to execute this notebook. It is not required if you are executing it locally and you have properly configured your local environment according to what explained in the Github Repository.**\n",
        "\n",
        "The first step is to clone the repository to have access to all the data and files"
      ]
    },
    {
      "cell_type": "code",
      "execution_count": 2,
      "metadata": {
        "id": "gakj_n0h70ox"
      },
      "outputs": [],
      "source": [
        "repository_name = \"NLP-MBD-EN-PT\"\n",
        "repository_url = 'https://github.com/nerealegui/' + repository_name"
      ]
    },
    {
      "cell_type": "code",
      "execution_count": 3,
      "metadata": {
        "colab": {
          "base_uri": "https://localhost:8080/"
        },
        "id": "3d7mC64KvlwP",
        "outputId": "d39140c3-9726-4ca5-d2d6-228a2f402a5e"
      },
      "outputs": [
        {
          "name": "stdout",
          "output_type": "stream",
          "text": [
            "Cloning into 'NLP-MBD-EN-PT'...\n",
            "remote: Enumerating objects: 4548, done.\u001b[K\n",
            "remote: Counting objects: 100% (208/208), done.\u001b[K\n",
            "remote: Compressing objects: 100% (139/139), done.\u001b[K\n",
            "remote: Total 4548 (delta 130), reused 113 (delta 68), pack-reused 4340 (from 1)\u001b[K\n",
            "Receiving objects: 100% (4548/4548), 16.68 MiB | 14.23 MiB/s, done.\n",
            "Resolving deltas: 100% (231/231), done.\n"
          ]
        }
      ],
      "source": [
        "! git clone $repository_url"
      ]
    },
    {
      "cell_type": "markdown",
      "metadata": {
        "id": "Ecfec2Y4v6e9"
      },
      "source": [
        "Install the requirements"
      ]
    },
    {
      "cell_type": "markdown",
      "metadata": {
        "id": "JHDzMQwpyODo"
      },
      "source": [
        "Now you have everything you need to execute the code in Colab"
      ]
    },
    {
      "cell_type": "markdown",
      "metadata": {
        "id": "HeGC-Qg3sK8Y"
      },
      "source": [
        "# Bag-of-words"
      ]
    },
    {
      "cell_type": "code",
      "execution_count": 4,
      "metadata": {
        "colab": {
          "base_uri": "https://localhost:8080/"
        },
        "id": "r_8zOo4gsK8f",
        "outputId": "90009fdd-fcde-4478-f7b2-9f155b7bc2fd"
      },
      "outputs": [
        {
          "name": "stderr",
          "output_type": "stream",
          "text": [
            "[nltk_data] Downloading package shakespeare to /root/nltk_data...\n",
            "[nltk_data]   Unzipping corpora/shakespeare.zip.\n",
            "[nltk_data] Downloading package stopwords to /root/nltk_data...\n",
            "[nltk_data]   Unzipping corpora/stopwords.zip.\n"
          ]
        }
      ],
      "source": [
        "import nltk\n",
        "nltk.download('shakespeare')\n",
        "nltk.download('stopwords')\n",
        "\n",
        "from sklearn.feature_extraction.text import CountVectorizer, TfidfVectorizer\n",
        "import pandas as pd\n",
        "import numpy as np"
      ]
    },
    {
      "cell_type": "markdown",
      "metadata": {
        "id": "onkwLfBQsK8g"
      },
      "source": [
        "The `nltk` library includes several corpus for experimentation. In this markdown we are going to make use of the corpus including the set of Shakespeare's plays.\n",
        "\n",
        "In the following cell, I will load the corpus and create a dataframe with the name of the book and the textual content."
      ]
    },
    {
      "cell_type": "code",
      "execution_count": 7,
      "metadata": {
        "colab": {
          "base_uri": "https://localhost:8080/"
        },
        "id": "pFhGK1uasK8h",
        "outputId": "3992a3af-baac-4b4f-a352-35f7c2d35b97"
      },
      "outputs": [
        {
          "name": "stdout",
          "output_type": "stream",
          "text": [
            "           book                                              words\n",
            "0   a_and_c.xml  The Tragedy of Antony and Cleopatra Dramatis P...\n",
            "1     dream.xml  A Midsummer Night ' s Dream Dramatis Personae ...\n",
            "2    hamlet.xml  The Tragedy of Hamlet , Prince of Denmark Dram...\n",
            "3  j_caesar.xml  The Tragedy of Julius Caesar Dramatis Personae...\n",
            "4   macbeth.xml  The Tragedy of Macbeth Dramatis Personae DUNCA...\n",
            "5  merchant.xml  The Merchant of Venice Dramatis Personae The D...\n",
            "6   othello.xml  The Tragedy of Othello , the Moor of Venice Dr...\n",
            "7   r_and_j.xml  The Tragedy of Romeo and Juliet Text placed in...\n"
          ]
        }
      ],
      "source": [
        "shakespeare_df = pd.DataFrame(columns=[\"book\", \"words\"])\n",
        "for ii, book in enumerate(nltk.corpus.shakespeare.fileids()):\n",
        "    shakespeare_df.loc[ii] = (book, \" \".join(nltk.corpus.shakespeare.words(book)))\n",
        "print(shakespeare_df)"
      ]
    },
    {
      "cell_type": "markdown",
      "metadata": {
        "id": "0xgnNtVnsK8i"
      },
      "source": [
        "While this representation can be useful for humans, it is of no use if you want to use these data for an NLP system.\n",
        "\n",
        "As we discussed in class, we need to create the document-term matrix which will be the input for any NLP system we need to create on top of it. In the document term matrix we have a row for each one of the different documents (the Shakespeare's plays) and a column for each one of the words in the dataset. At each cell, you will find the weight of the word in the document (for example, how many times does the word appear in the document).\n",
        "\n",
        "In class we presented several weighting approaches, let's see how we can create them."
      ]
    },
    {
      "cell_type": "markdown",
      "metadata": {
        "id": "XdJiO9XvsK8i"
      },
      "source": [
        "Let's start with the simplest one: The Binary weighting. Binary weighting only defines if a word appears (1) or does not appear (0) in a document"
      ]
    },
    {
      "cell_type": "markdown",
      "metadata": {
        "id": "TdxurLNi9clF"
      },
      "source": [
        "Here’s what happens in that snippet, step by step:\n",
        "\n",
        "1.  Instantiate the vectorizer  \n",
        "     `binary_weighting = CountVectorizer(binary=True)`  \n",
        "      – Builds a vocabulary and, when transforming, will mark each word as present (1) or absent (0) in a document.\n",
        "\n",
        "2.  Learn the vocabulary and transform the text into a sparse matrix  \n",
        "     `binary_shakespeare = binary_weighting.fit_transform(shakespeare_df.words)`  \n",
        "      – `fit` scans all documents to build the vocab (one column per unique token).  \n",
        "      – `transform` turns each document into a row of 0/1s, stored in a SciPy sparse matrix of shape `(n_docs, n_terms)`.\n",
        "\n",
        "3.  Convert to a pandas DataFrame  \n",
        "     `binary_shakespeare.toarray()`  \n",
        "      – Converts the sparse matrix to a dense NumPy array.  \n",
        "     `columns=binary_weighting.get_feature_names_out()`  \n",
        "      – Labels each column with the corresponding token.  \n",
        "     `pd.DataFrame(...)`  \n",
        "      – Wraps the array in a DataFrame for easy inspection.\n",
        "\n",
        "4.  Inspect the result  \n",
        "     `print(binary_dt_matrix)`  \n",
        "      – Shows a table where each row is a play, each column is a word, and each cell is 0 or 1 indicating absence/presence.\n",
        "\n",
        "This binary‐weighted document–term matrix is useful when you only care about whether a term occurs at all, not how often."
      ]
    },
    {
      "cell_type": "code",
      "execution_count": 9,
      "metadata": {
        "colab": {
          "base_uri": "https://localhost:8080/"
        },
        "id": "Jg_NgZWysK8j",
        "outputId": "99030932-224d-4015-8e93-55b4dbf34e4b"
      },
      "outputs": [
        {
          "name": "stdout",
          "output_type": "stream",
          "text": [
            "   1992  1996  1998  1999  abandon  abate  abatements  abbey  abhor  abhorred  \\\n",
            "0     0     0     0     0        0      0           0      0      0         0   \n",
            "1     0     0     0     0        0      1           0      0      0         0   \n",
            "2     0     0     0     0        0      1           1      0      0         1   \n",
            "3     0     0     0     0        0      0           0      0      0         0   \n",
            "4     0     0     0     0        0      0           0      0      0         1   \n",
            "5     0     0     0     0        0      1           0      0      0         0   \n",
            "6     0     0     0     0        1      0           0      0      1         0   \n",
            "7     1     1     1     1        0      1           0      1      0         1   \n",
            "\n",
            "   ...  your  yours  yourself  yourselves  youth  youthful  youths  zeal  \\\n",
            "0  ...     1      1         1           1      1         0       0     0   \n",
            "1  ...     1      1         1           1      1         0       0     0   \n",
            "2  ...     1      1         1           1      1         0       0     0   \n",
            "3  ...     1      1         1           1      0         1       1     0   \n",
            "4  ...     1      1         1           1      1         0       1     0   \n",
            "5  ...     1      1         1           0      1         1       0     1   \n",
            "6  ...     1      1         1           0      1         0       0     0   \n",
            "7  ...     1      1         1           0      1         1       0     0   \n",
            "\n",
            "   zone  zounds  \n",
            "0     0       0  \n",
            "1     0       0  \n",
            "2     1       0  \n",
            "3     0       0  \n",
            "4     0       0  \n",
            "5     0       0  \n",
            "6     0       1  \n",
            "7     0       1  \n",
            "\n",
            "[8 rows x 11316 columns]\n"
          ]
        }
      ],
      "source": [
        "# Convert a collection of text documents to a matrix of token counts. This implementation produces a sparse representation of the counts using scipy.sparse.csr_matrix.\n",
        "binary_weighting = CountVectorizer(binary=True)\n",
        "binary_shakespeare = binary_weighting.fit_transform(shakespeare_df.words)\n",
        "binary_dt_matrix = pd.DataFrame(binary_shakespeare.toarray(), columns=binary_weighting.get_feature_names_out())\n",
        "print(binary_dt_matrix)"
      ]
    },
    {
      "cell_type": "markdown",
      "metadata": {
        "id": "KmEaF25isK8j"
      },
      "source": [
        "Let's inspect the most and least important terms related to the document 6 (Othello)"
      ]
    },
    {
      "cell_type": "code",
      "execution_count": 10,
      "metadata": {
        "colab": {
          "base_uri": "https://localhost:8080/"
        },
        "id": "VDXuF1qasK8k",
        "outputId": "7c873da5-9717-483e-cc6b-52c7b6d4c782"
      },
      "outputs": [
        {
          "name": "stdout",
          "output_type": "stream",
          "text": [
            "25 most important terms for document othello.xml\n",
            "about           1\n",
            "above           1\n",
            "yet             1\n",
            "aboard          1\n",
            "zounds          1\n",
            "abode           1\n",
            "abuser          1\n",
            "abused          1\n",
            "abuse           1\n",
            "access          1\n",
            "absolute        1\n",
            "absent          1\n",
            "absence         1\n",
            "abroad          1\n",
            "yond            1\n",
            "abuses          1\n",
            "acquainted      1\n",
            "acquaintance    1\n",
            "acknown         1\n",
            "achieved        1\n",
            "aches           1\n",
            "ache            1\n",
            "write           1\n",
            "writ            1\n",
            "wrongs          1\n",
            "Name: 6, dtype: int64\n",
            "25 least important terms for document othello.xml\n",
            "1998           0\n",
            "yesty          0\n",
            "yesternight    0\n",
            "accepted       0\n",
            "accept         0\n",
            "accents        0\n",
            "abysm          0\n",
            "according      0\n",
            "accord         0\n",
            "yarely         0\n",
            "yare           0\n",
            "yard           0\n",
            "xv             0\n",
            "xml            0\n",
            "xiv            0\n",
            "yearns         0\n",
            "yawning        0\n",
            "youthful       0\n",
            "yourselves     0\n",
            "younker        0\n",
            "youngest       0\n",
            "younger        0\n",
            "yorick         0\n",
            "yaw            0\n",
            "yaughan        0\n",
            "Name: 6, dtype: int64\n"
          ]
        }
      ],
      "source": [
        "document = 6\n",
        "print(\"25 most important terms for document\", shakespeare_df.iloc[document]['book'])\n",
        "print(binary_dt_matrix.iloc[:, np.argsort(binary_dt_matrix.loc[document])[::-1]].iloc[document][:25])\n",
        "\n",
        "print(\"25 least important terms for document\", shakespeare_df.iloc[document]['book'])\n",
        "print(binary_dt_matrix.iloc[:, np.argsort(binary_dt_matrix.loc[document])[::-1]].iloc[document][-25:])\n",
        "\n"
      ]
    },
    {
      "cell_type": "markdown",
      "metadata": {
        "id": "rKzkc_KysK8k"
      },
      "source": [
        "As you can see, the representation is not very useful as it is. By only telling us if a word appears or not in a document is not giving us a lot of information. **Can you think on a situation where this binary weighting can be sufficient?**\n",
        "\n",
        "The next thing to know will be whether the word appears only once or several times."
      ]
    },
    {
      "cell_type": "code",
      "execution_count": 11,
      "metadata": {
        "colab": {
          "base_uri": "https://localhost:8080/"
        },
        "id": "J7N3XRgdsK8l",
        "outputId": "22040afd-92e1-492a-ef2c-9ff7a56150fe"
      },
      "outputs": [
        {
          "name": "stdout",
          "output_type": "stream",
          "text": [
            "   1992  1996  1998  1999  abandon  abate  abatements  abbey  abhor  abhorred  \\\n",
            "0     0     0     0     0        0      0           0      0      0         0   \n",
            "1     0     0     0     0        0      1           0      0      0         0   \n",
            "2     0     0     0     0        0      1           1      0      0         1   \n",
            "3     0     0     0     0        0      0           0      0      0         0   \n",
            "4     0     0     0     0        0      0           0      0      0         1   \n",
            "5     0     0     0     0        0      1           0      0      0         0   \n",
            "6     0     0     0     0        1      0           0      0      3         0   \n",
            "7     1     1     1     1        0      1           0      1      0         1   \n",
            "\n",
            "   ...  your  yours  yourself  yourselves  youth  youthful  youths  zeal  \\\n",
            "0  ...   140     11        15           1      5         0       0     0   \n",
            "1  ...   123      4         3           3      7         0       0     0   \n",
            "2  ...   242      6        15           1     16         0       0     0   \n",
            "3  ...   130     10        12           6      0         1       1     0   \n",
            "4  ...   121      3         2           3      1         0       1     0   \n",
            "5  ...   175     16         4           0      8         1       0     1   \n",
            "6  ...   205      6        16           0      5         0       0     0   \n",
            "7  ...   103      4         5           0      6         3       0     0   \n",
            "\n",
            "   zone  zounds  \n",
            "0     0       0  \n",
            "1     0       0  \n",
            "2     1       0  \n",
            "3     0       0  \n",
            "4     0       0  \n",
            "5     0       0  \n",
            "6     0       3  \n",
            "7     0       2  \n",
            "\n",
            "[8 rows x 11316 columns]\n"
          ]
        }
      ],
      "source": [
        "tf_weighting = CountVectorizer() # now the vector is not binary\n",
        "tf_shakespeare = tf_weighting.fit_transform(shakespeare_df.words)\n",
        "tf_dt_matrix = pd.DataFrame(tf_shakespeare.toarray(), columns=tf_weighting.get_feature_names_out())\n",
        "print(tf_dt_matrix)"
      ]
    },
    {
      "cell_type": "markdown",
      "metadata": {
        "id": "q0L566RDsK8m"
      },
      "source": [
        "Ok, now we have the words weighted according to how many times they appear in the document.\n",
        "\n",
        "Let's check now the most and least important words in Othello"
      ]
    },
    {
      "cell_type": "code",
      "execution_count": 12,
      "metadata": {
        "colab": {
          "base_uri": "https://localhost:8080/"
        },
        "id": "h1NAk703sK8m",
        "outputId": "e70749b9-74d7-41a9-ee5d-b338dcca480b"
      },
      "outputs": [
        {
          "name": "stdout",
          "output_type": "stream",
          "text": [
            "25 most important terms for document othello.xml\n",
            "and          794\n",
            "the          761\n",
            "to           629\n",
            "you          486\n",
            "of           475\n",
            "my           416\n",
            "that         395\n",
            "iago         360\n",
            "in           341\n",
            "othello      336\n",
            "not          318\n",
            "it           317\n",
            "is           309\n",
            "me           281\n",
            "cassio       254\n",
            "he           246\n",
            "for          240\n",
            "desdemona    230\n",
            "be           226\n",
            "but          221\n",
            "with         221\n",
            "this         220\n",
            "do           219\n",
            "her          215\n",
            "have         207\n",
            "Name: 6, dtype: int64\n",
            "25 least important terms for document othello.xml\n",
            "1998           0\n",
            "yesty          0\n",
            "yesternight    0\n",
            "accepted       0\n",
            "accept         0\n",
            "accents        0\n",
            "abysm          0\n",
            "according      0\n",
            "accord         0\n",
            "yarely         0\n",
            "yare           0\n",
            "yard           0\n",
            "xv             0\n",
            "xml            0\n",
            "xiv            0\n",
            "yearns         0\n",
            "yawning        0\n",
            "youthful       0\n",
            "yourselves     0\n",
            "younker        0\n",
            "youngest       0\n",
            "younger        0\n",
            "yorick         0\n",
            "yaw            0\n",
            "yaughan        0\n",
            "Name: 6, dtype: int64\n"
          ]
        }
      ],
      "source": [
        "document = 6\n",
        "print(\"25 most important terms for document\", shakespeare_df.iloc[document]['book'])\n",
        "print(tf_dt_matrix.iloc[:, np.argsort(tf_dt_matrix.loc[document])[::-1]].iloc[document][:25])\n",
        "\n",
        "print(\"25 least important terms for document\", shakespeare_df.iloc[document]['book'])\n",
        "print(tf_dt_matrix.iloc[:, np.argsort(tf_dt_matrix.loc[document])[::-1]].iloc[document][-25:])"
      ]
    },
    {
      "cell_type": "markdown",
      "metadata": {
        "id": "HFSHiEEGsK8n"
      },
      "source": [
        "**What problem do you see with the most important words? Are they really representative?**\n",
        "\n"
      ]
    },
    {
      "cell_type": "markdown",
      "metadata": {
        "id": "8CiGiYtasK8n"
      },
      "source": [
        "Let's check now how to create the TF-IDF weighting to see if we can improve this representation"
      ]
    },
    {
      "cell_type": "markdown",
      "metadata": {
        "id": "8vWjuucF-umm"
      },
      "source": [
        "**TF-IDF (Term Frequency-Inverse Document Frequency)** features are numerical representations of text that reflect the importance of a word within a document relative to a collection of documents\n",
        "\n",
        "- **Term Frequency (TF):**\n",
        "Measures how often a word appears in a specific document. A higher TF indicates the word is more important within that document.\n",
        "\n",
        "- **Inverse Document Frequency (IDF):**\n",
        "Measures how rare or common a word is across the entire corpus of documents. Rare words have a higher IDF, indicating they are more informative and important."
      ]
    },
    {
      "cell_type": "code",
      "execution_count": 13,
      "metadata": {
        "colab": {
          "base_uri": "https://localhost:8080/"
        },
        "id": "bAfISl2jsK8o",
        "outputId": "06d57b34-786c-4c54-d0da-d1e97664e7cf"
      },
      "outputs": [
        {
          "name": "stdout",
          "output_type": "stream",
          "text": [
            "       1992      1996      1998      1999   abandon     abate  abatements  \\\n",
            "0  0.000000  0.000000  0.000000  0.000000  0.000000  0.000000    0.000000   \n",
            "1  0.000000  0.000000  0.000000  0.000000  0.000000  0.001132    0.000000   \n",
            "2  0.000000  0.000000  0.000000  0.000000  0.000000  0.000551    0.000869   \n",
            "3  0.000000  0.000000  0.000000  0.000000  0.000000  0.000000    0.000000   \n",
            "4  0.000000  0.000000  0.000000  0.000000  0.000000  0.000000    0.000000   \n",
            "5  0.000000  0.000000  0.000000  0.000000  0.000000  0.000843    0.000000   \n",
            "6  0.000000  0.000000  0.000000  0.000000  0.000973  0.000000    0.000000   \n",
            "7  0.001163  0.001163  0.001163  0.001163  0.000000  0.000738    0.000000   \n",
            "\n",
            "      abbey     abhor  abhorred  ...      your     yours  yourself  \\\n",
            "0  0.000000  0.000000  0.000000  ...  0.062407  0.004903  0.006686   \n",
            "1  0.000000  0.000000  0.000000  ...  0.087673  0.002851  0.002138   \n",
            "2  0.000000  0.000000  0.000628  ...  0.083986  0.002082  0.005206   \n",
            "3  0.000000  0.000000  0.000000  ...  0.071664  0.005513  0.006615   \n",
            "4  0.000000  0.000000  0.001116  ...  0.074558  0.001849  0.001232   \n",
            "5  0.000000  0.000000  0.000000  ...  0.092911  0.008495  0.002124   \n",
            "6  0.000000  0.002918  0.000000  ...  0.079621  0.002330  0.006214   \n",
            "7  0.001163  0.000000  0.000841  ...  0.047856  0.001858  0.002323   \n",
            "\n",
            "   yourselves     youth  youthful    youths      zeal      zone    zounds  \n",
            "0    0.000627  0.002491  0.000000  0.000000  0.000000  0.000000  0.000000  \n",
            "1    0.003005  0.005577  0.000000  0.000000  0.000000  0.000000  0.000000  \n",
            "2    0.000488  0.006207  0.000000  0.000000  0.000000  0.000869  0.000000  \n",
            "3    0.004649  0.000000  0.000998  0.001157  0.000000  0.000000  0.000000  \n",
            "4    0.002598  0.000689  0.000000  0.001293  0.000000  0.000000  0.000000  \n",
            "5    0.000000  0.004748  0.000961  0.000000  0.001329  0.000000  0.000000  \n",
            "6    0.000000  0.002171  0.000000  0.000000  0.000000  0.000000  0.002445  \n",
            "7    0.000000  0.003116  0.002524  0.000000  0.000000  0.000000  0.001950  \n",
            "\n",
            "[8 rows x 11316 columns]\n"
          ]
        }
      ],
      "source": [
        "tf_idf_weighting = TfidfVectorizer()\n",
        "tf_idf_shakespeare = tf_idf_weighting.fit_transform(shakespeare_df.words)\n",
        "tf_idf_dt_matrix = pd.DataFrame(tf_idf_shakespeare.toarray(), columns=tf_idf_weighting.get_feature_names_out())\n",
        "print(tf_idf_dt_matrix)"
      ]
    },
    {
      "cell_type": "code",
      "execution_count": 14,
      "metadata": {
        "colab": {
          "base_uri": "https://localhost:8080/"
        },
        "id": "GEwT8UxAsK8o",
        "outputId": "9384f489-60fc-4735-b3ad-1b09b454a398"
      },
      "outputs": [
        {
          "name": "stdout",
          "output_type": "stream",
          "text": [
            "25 most important terms for document othello.xml\n",
            "iago         0.350125\n",
            "othello      0.326783\n",
            "and          0.308385\n",
            "the          0.295568\n",
            "cassio       0.247033\n",
            "to           0.244300\n",
            "desdemona    0.223691\n",
            "you          0.188760\n",
            "of           0.184487\n",
            "my           0.161572\n",
            "that         0.153416\n",
            "emilia       0.134215\n",
            "in           0.132442\n",
            "not          0.123509\n",
            "it           0.123121\n",
            "is           0.120014\n",
            "me           0.109139\n",
            "roderigo     0.101147\n",
            "he           0.095545\n",
            "for          0.093215\n",
            "be           0.087777\n",
            "but          0.085835\n",
            "with         0.085835\n",
            "this         0.085447\n",
            "do           0.085058\n",
            "Name: 6, dtype: float64\n",
            "25 least important terms for document othello.xml\n",
            "juggling      0.0\n",
            "juice         0.0\n",
            "juiced        0.0\n",
            "jule          0.0\n",
            "juliet        0.0\n",
            "joyful        0.0\n",
            "joyfully      0.0\n",
            "joys          0.0\n",
            "kerns         0.0\n",
            "judges        0.0\n",
            "judgments     0.0\n",
            "jour          0.0\n",
            "journeymen    0.0\n",
            "journeys      0.0\n",
            "jovial        0.0\n",
            "jowls         0.0\n",
            "jointress     0.0\n",
            "joints        0.0\n",
            "jointure      0.0\n",
            "jole          0.0\n",
            "jollity       0.0\n",
            "jolly         0.0\n",
            "jon           0.0\n",
            "kerchief      0.0\n",
            "judgement     0.0\n",
            "Name: 6, dtype: float64\n"
          ]
        }
      ],
      "source": [
        "document = 6\n",
        "print(\"25 most important terms for document\", shakespeare_df.iloc[document]['book'])\n",
        "print(tf_idf_dt_matrix.iloc[:, np.argsort(tf_idf_dt_matrix.loc[document])[::-1]].iloc[document][:25])\n",
        "\n",
        "print(\"25 least important terms for document\", shakespeare_df.iloc[document]['book'])\n",
        "print(tf_idf_dt_matrix.iloc[:, np.argsort(tf_idf_dt_matrix.loc[document])[::-1]].iloc[document][-25:])"
      ]
    },
    {
      "cell_type": "markdown",
      "metadata": {
        "id": "HxSFxfWqsK8p"
      },
      "source": [
        "**What do you see now in the representation? Have we solved all the problems?**"
      ]
    },
    {
      "cell_type": "markdown",
      "metadata": {
        "id": "ZL1a-Y01sK8p"
      },
      "source": [
        "# StopWords\n",
        "\n",
        "In the previous section we have experimenting some problems related to stopwords, such as `and` or `of`. These words do not carry any meaning and are unlikely to provide any advantage for any subsequent NLP task and, therefore, we are safe to remove them.\n",
        "\n",
        "Let's see how to do it via NLTK.\n",
        "\n",
        "Since stopwords are language-dependant, NLTK provides a list for several languages."
      ]
    },
    {
      "cell_type": "code",
      "execution_count": 15,
      "metadata": {
        "colab": {
          "base_uri": "https://localhost:8080/"
        },
        "id": "fVxZRw4dsK8p",
        "outputId": "5abd70d2-6119-4c38-9c6e-85e9e5ed714a"
      },
      "outputs": [
        {
          "name": "stdout",
          "output_type": "stream",
          "text": [
            "Languages for which NLTK provides an stopword list: albanian, arabic, azerbaijani, basque, belarusian, bengali, catalan, chinese, danish, dutch, english, finnish, french, german, greek, hebrew, hinglish, hungarian, indonesian, italian, kazakh, nepali, norwegian, portuguese, romanian, russian, slovene, spanish, swedish, tajik, tamil, turkish\n"
          ]
        }
      ],
      "source": [
        "from nltk.corpus import stopwords\n",
        "print(\"Languages for which NLTK provides an stopword list:\", \", \".join(stopwords.fileids()))"
      ]
    },
    {
      "cell_type": "markdown",
      "metadata": {
        "id": "bKl8SwQ8sK8q"
      },
      "source": [
        "We are just interested in the English stopword list"
      ]
    },
    {
      "cell_type": "code",
      "execution_count": 16,
      "metadata": {
        "colab": {
          "base_uri": "https://localhost:8080/"
        },
        "id": "qUeIICa1sK8q",
        "outputId": "8ed92023-c89d-4bc4-cffc-ed85a3f101eb"
      },
      "outputs": [
        {
          "name": "stdout",
          "output_type": "stream",
          "text": [
            "Example of 25 English stopwords: a, about, above, after, again, against, ain, all, am, an, and, any, are, aren, aren't, as, at, be, because, been, before, being, below, between, both\n"
          ]
        }
      ],
      "source": [
        "print(\"Example of 25 English stopwords:\", \", \".join(stopwords.words(\"english\")[:25]))"
      ]
    },
    {
      "cell_type": "markdown",
      "metadata": {
        "id": "9zpkp2lisK8r"
      },
      "source": [
        "We can use this list to remove these words from our representation and create the document term matrix without them. Let's check."
      ]
    },
    {
      "cell_type": "code",
      "execution_count": 17,
      "metadata": {
        "colab": {
          "base_uri": "https://localhost:8080/"
        },
        "id": "a5XKr4U4sK8r",
        "outputId": "38dc083c-2aad-4245-f776-9ab7b8e3627b"
      },
      "outputs": [
        {
          "name": "stdout",
          "output_type": "stream",
          "text": [
            "       1992      1996      1998      1999   abandon     abate  abatements  \\\n",
            "0  0.000000  0.000000  0.000000  0.000000  0.000000  0.000000    0.000000   \n",
            "1  0.000000  0.000000  0.000000  0.000000  0.000000  0.002333    0.000000   \n",
            "2  0.000000  0.000000  0.000000  0.000000  0.000000  0.001020    0.001609   \n",
            "3  0.000000  0.000000  0.000000  0.000000  0.000000  0.000000    0.000000   \n",
            "4  0.000000  0.000000  0.000000  0.000000  0.000000  0.000000    0.000000   \n",
            "5  0.000000  0.000000  0.000000  0.000000  0.000000  0.001867    0.000000   \n",
            "6  0.000000  0.000000  0.000000  0.000000  0.001506  0.000000    0.000000   \n",
            "7  0.001902  0.001902  0.001902  0.001902  0.000000  0.001206    0.000000   \n",
            "\n",
            "      abbey     abhor  abhorred  ...     young   younger  youngest   younker  \\\n",
            "0  0.000000  0.000000  0.000000  ...  0.002220  0.001340  0.000000  0.000000   \n",
            "1  0.000000  0.000000  0.000000  ...  0.010286  0.000000  0.000000  0.000000   \n",
            "2  0.000000  0.000000  0.001163  ...  0.010921  0.001163  0.000000  0.000000   \n",
            "3  0.000000  0.000000  0.000000  ...  0.009507  0.000000  0.000000  0.000000   \n",
            "4  0.000000  0.000000  0.001947  ...  0.015053  0.000000  0.000000  0.000000   \n",
            "5  0.000000  0.000000  0.000000  ...  0.028228  0.000000  0.000000  0.002945   \n",
            "6  0.000000  0.004519  0.000000  ...  0.006015  0.000000  0.000000  0.000000   \n",
            "7  0.001902  0.000000  0.001376  ...  0.018234  0.002752  0.001902  0.000000   \n",
            "\n",
            "      youth  youthful    youths      zeal      zone    zounds  \n",
            "0  0.004135  0.000000  0.000000  0.000000  0.000000  0.000000  \n",
            "1  0.011497  0.000000  0.000000  0.000000  0.000000  0.000000  \n",
            "2  0.011489  0.000000  0.000000  0.000000  0.001609  0.000000  \n",
            "3  0.000000  0.001722  0.001995  0.000000  0.000000  0.000000  \n",
            "4  0.001202  0.000000  0.002256  0.000000  0.000000  0.000000  \n",
            "5  0.010518  0.002130  0.000000  0.002945  0.000000  0.000000  \n",
            "6  0.003362  0.000000  0.000000  0.000000  0.000000  0.003787  \n",
            "7  0.005095  0.004128  0.000000  0.000000  0.000000  0.003189  \n",
            "\n",
            "[8 rows x 11048 columns]\n"
          ]
        }
      ],
      "source": [
        "sw_free_tf_idf_weighting = TfidfVectorizer(stop_words='english')\n",
        "sw_free_tf_idf_shakespeare = sw_free_tf_idf_weighting.fit_transform(shakespeare_df.words)\n",
        "sw_free_tf_idf_dt_matrix = pd.DataFrame(sw_free_tf_idf_shakespeare.toarray(), columns=sw_free_tf_idf_weighting.get_feature_names_out())\n",
        "print(sw_free_tf_idf_dt_matrix)"
      ]
    },
    {
      "cell_type": "code",
      "execution_count": 18,
      "metadata": {
        "colab": {
          "base_uri": "https://localhost:8080/"
        },
        "id": "97woQ18ssK8r",
        "outputId": "01909e19-b437-481c-9e0e-26276fca4ff5"
      },
      "outputs": [
        {
          "name": "stdout",
          "output_type": "stream",
          "text": [
            "25 most important terms for document othello.xml\n",
            "iago            0.542255\n",
            "othello         0.506104\n",
            "cassio          0.382591\n",
            "desdemona       0.346441\n",
            "emilia          0.207864\n",
            "roderigo        0.156651\n",
            "thou            0.086619\n",
            "brabantio       0.070794\n",
            "lodovico        0.066276\n",
            "moor            0.064270\n",
            "venice          0.059331\n",
            "shall           0.058348\n",
            "good            0.055340\n",
            "montano         0.054225\n",
            "tis             0.051130\n",
            "come            0.050528\n",
            "let             0.049927\n",
            "lord            0.048723\n",
            "thy             0.047520\n",
            "love            0.046919\n",
            "ll              0.045716\n",
            "handkerchief    0.045188\n",
            "thee            0.045114\n",
            "know            0.043310\n",
            "bianca          0.042175\n",
            "Name: 6, dtype: float64\n",
            "25 least important terms for document othello.xml\n",
            "outcries       0.0\n",
            "outbreak       0.0\n",
            "outbrave       0.0\n",
            "ousel          0.0\n",
            "ourself        0.0\n",
            "ounce          0.0\n",
            "outlawry       0.0\n",
            "overplus       0.0\n",
            "overpeering    0.0\n",
            "overpeer       0.0\n",
            "overheard      0.0\n",
            "overhear       0.0\n",
            "overflown      0.0\n",
            "overdone       0.0\n",
            "overcome       0.0\n",
            "outstrike      0.0\n",
            "overcast       0.0\n",
            "overcame       0.0\n",
            "overborne      0.0\n",
            "overbold       0.0\n",
            "overbear       0.0\n",
            "outwork        0.0\n",
            "outwardly      0.0\n",
            "outswear       0.0\n",
            "overcharged    0.0\n",
            "Name: 6, dtype: float64\n"
          ]
        }
      ],
      "source": [
        "document = 6\n",
        "print(\"25 most important terms for document\", shakespeare_df.iloc[document]['book'])\n",
        "print(sw_free_tf_idf_dt_matrix.iloc[:, np.argsort(sw_free_tf_idf_dt_matrix.loc[document])[::-1]].iloc[document][:25])\n",
        "\n",
        "print(\"25 least important terms for document\", shakespeare_df.iloc[document]['book'])\n",
        "print(sw_free_tf_idf_dt_matrix.iloc[:, np.argsort(sw_free_tf_idf_dt_matrix.loc[document])[::-1]].iloc[document][-25:])"
      ]
    },
    {
      "cell_type": "markdown",
      "metadata": {
        "id": "F-lBaRWcsK8s"
      },
      "source": [
        "It's much better now, isn't it?"
      ]
    },
    {
      "cell_type": "markdown",
      "metadata": {
        "id": "Ou53w9tCsK8s"
      },
      "source": [
        "Try to play with the previous code, change the document to see how the different weightings affect their representation or to use a different corpus from the ones included in NLTK"
      ]
    }
  ],
  "metadata": {
    "accelerator": "GPU",
    "colab": {
      "gpuType": "T4",
      "include_colab_link": true,
      "name": "bag_of_words.ipynb",
      "provenance": [],
      "toc_visible": true
    },
    "kernelspec": {
      "display_name": "Python 3",
      "name": "python3"
    },
    "language_info": {
      "codemirror_mode": {
        "name": "ipython",
        "version": 3
      },
      "file_extension": ".py",
      "mimetype": "text/x-python",
      "name": "python",
      "nbconvert_exporter": "python",
      "pygments_lexer": "ipython3",
      "version": "3.9.6"
    }
  },
  "nbformat": 4,
  "nbformat_minor": 0
}
